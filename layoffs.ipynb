{
  "nbformat": 4,
  "nbformat_minor": 0,
  "metadata": {
    "colab": {
      "provenance": []
    },
    "kernelspec": {
      "name": "python3",
      "display_name": "Python 3"
    },
    "language_info": {
      "name": "python"
    }
  },
  "cells": [
    {
      "cell_type": "markdown",
      "source": [
        "# **Global Layoff Trends**"
      ],
      "metadata": {
        "id": "f26Mpb9TsNDI"
      }
    },
    {
      "cell_type": "code",
      "execution_count": 3,
      "metadata": {
        "id": "zhLlzGDXzycx"
      },
      "outputs": [],
      "source": [
        "import pandas as pd\n",
        "import matplotlib.pyplot as plt\n",
        "import seaborn as sns\n"
      ]
    },
    {
      "cell_type": "code",
      "source": [
        "from google.colab import files\n",
        "uploaded = files.upload()"
      ],
      "metadata": {
        "colab": {
          "base_uri": "https://localhost:8080/",
          "height": 73
        },
        "id": "_OcmLTRV0PX1",
        "outputId": "74b2b67e-24dc-45b0-96a7-8aaa8c4bcc36"
      },
      "execution_count": 1,
      "outputs": [
        {
          "output_type": "display_data",
          "data": {
            "text/plain": [
              "<IPython.core.display.HTML object>"
            ],
            "text/html": [
              "\n",
              "     <input type=\"file\" id=\"files-9af4339e-6225-49ff-aa55-c91e8c6803b9\" name=\"files[]\" multiple disabled\n",
              "        style=\"border:none\" />\n",
              "     <output id=\"result-9af4339e-6225-49ff-aa55-c91e8c6803b9\">\n",
              "      Upload widget is only available when the cell has been executed in the\n",
              "      current browser session. Please rerun this cell to enable.\n",
              "      </output>\n",
              "      <script>// Copyright 2017 Google LLC\n",
              "//\n",
              "// Licensed under the Apache License, Version 2.0 (the \"License\");\n",
              "// you may not use this file except in compliance with the License.\n",
              "// You may obtain a copy of the License at\n",
              "//\n",
              "//      http://www.apache.org/licenses/LICENSE-2.0\n",
              "//\n",
              "// Unless required by applicable law or agreed to in writing, software\n",
              "// distributed under the License is distributed on an \"AS IS\" BASIS,\n",
              "// WITHOUT WARRANTIES OR CONDITIONS OF ANY KIND, either express or implied.\n",
              "// See the License for the specific language governing permissions and\n",
              "// limitations under the License.\n",
              "\n",
              "/**\n",
              " * @fileoverview Helpers for google.colab Python module.\n",
              " */\n",
              "(function(scope) {\n",
              "function span(text, styleAttributes = {}) {\n",
              "  const element = document.createElement('span');\n",
              "  element.textContent = text;\n",
              "  for (const key of Object.keys(styleAttributes)) {\n",
              "    element.style[key] = styleAttributes[key];\n",
              "  }\n",
              "  return element;\n",
              "}\n",
              "\n",
              "// Max number of bytes which will be uploaded at a time.\n",
              "const MAX_PAYLOAD_SIZE = 100 * 1024;\n",
              "\n",
              "function _uploadFiles(inputId, outputId) {\n",
              "  const steps = uploadFilesStep(inputId, outputId);\n",
              "  const outputElement = document.getElementById(outputId);\n",
              "  // Cache steps on the outputElement to make it available for the next call\n",
              "  // to uploadFilesContinue from Python.\n",
              "  outputElement.steps = steps;\n",
              "\n",
              "  return _uploadFilesContinue(outputId);\n",
              "}\n",
              "\n",
              "// This is roughly an async generator (not supported in the browser yet),\n",
              "// where there are multiple asynchronous steps and the Python side is going\n",
              "// to poll for completion of each step.\n",
              "// This uses a Promise to block the python side on completion of each step,\n",
              "// then passes the result of the previous step as the input to the next step.\n",
              "function _uploadFilesContinue(outputId) {\n",
              "  const outputElement = document.getElementById(outputId);\n",
              "  const steps = outputElement.steps;\n",
              "\n",
              "  const next = steps.next(outputElement.lastPromiseValue);\n",
              "  return Promise.resolve(next.value.promise).then((value) => {\n",
              "    // Cache the last promise value to make it available to the next\n",
              "    // step of the generator.\n",
              "    outputElement.lastPromiseValue = value;\n",
              "    return next.value.response;\n",
              "  });\n",
              "}\n",
              "\n",
              "/**\n",
              " * Generator function which is called between each async step of the upload\n",
              " * process.\n",
              " * @param {string} inputId Element ID of the input file picker element.\n",
              " * @param {string} outputId Element ID of the output display.\n",
              " * @return {!Iterable<!Object>} Iterable of next steps.\n",
              " */\n",
              "function* uploadFilesStep(inputId, outputId) {\n",
              "  const inputElement = document.getElementById(inputId);\n",
              "  inputElement.disabled = false;\n",
              "\n",
              "  const outputElement = document.getElementById(outputId);\n",
              "  outputElement.innerHTML = '';\n",
              "\n",
              "  const pickedPromise = new Promise((resolve) => {\n",
              "    inputElement.addEventListener('change', (e) => {\n",
              "      resolve(e.target.files);\n",
              "    });\n",
              "  });\n",
              "\n",
              "  const cancel = document.createElement('button');\n",
              "  inputElement.parentElement.appendChild(cancel);\n",
              "  cancel.textContent = 'Cancel upload';\n",
              "  const cancelPromise = new Promise((resolve) => {\n",
              "    cancel.onclick = () => {\n",
              "      resolve(null);\n",
              "    };\n",
              "  });\n",
              "\n",
              "  // Wait for the user to pick the files.\n",
              "  const files = yield {\n",
              "    promise: Promise.race([pickedPromise, cancelPromise]),\n",
              "    response: {\n",
              "      action: 'starting',\n",
              "    }\n",
              "  };\n",
              "\n",
              "  cancel.remove();\n",
              "\n",
              "  // Disable the input element since further picks are not allowed.\n",
              "  inputElement.disabled = true;\n",
              "\n",
              "  if (!files) {\n",
              "    return {\n",
              "      response: {\n",
              "        action: 'complete',\n",
              "      }\n",
              "    };\n",
              "  }\n",
              "\n",
              "  for (const file of files) {\n",
              "    const li = document.createElement('li');\n",
              "    li.append(span(file.name, {fontWeight: 'bold'}));\n",
              "    li.append(span(\n",
              "        `(${file.type || 'n/a'}) - ${file.size} bytes, ` +\n",
              "        `last modified: ${\n",
              "            file.lastModifiedDate ? file.lastModifiedDate.toLocaleDateString() :\n",
              "                                    'n/a'} - `));\n",
              "    const percent = span('0% done');\n",
              "    li.appendChild(percent);\n",
              "\n",
              "    outputElement.appendChild(li);\n",
              "\n",
              "    const fileDataPromise = new Promise((resolve) => {\n",
              "      const reader = new FileReader();\n",
              "      reader.onload = (e) => {\n",
              "        resolve(e.target.result);\n",
              "      };\n",
              "      reader.readAsArrayBuffer(file);\n",
              "    });\n",
              "    // Wait for the data to be ready.\n",
              "    let fileData = yield {\n",
              "      promise: fileDataPromise,\n",
              "      response: {\n",
              "        action: 'continue',\n",
              "      }\n",
              "    };\n",
              "\n",
              "    // Use a chunked sending to avoid message size limits. See b/62115660.\n",
              "    let position = 0;\n",
              "    do {\n",
              "      const length = Math.min(fileData.byteLength - position, MAX_PAYLOAD_SIZE);\n",
              "      const chunk = new Uint8Array(fileData, position, length);\n",
              "      position += length;\n",
              "\n",
              "      const base64 = btoa(String.fromCharCode.apply(null, chunk));\n",
              "      yield {\n",
              "        response: {\n",
              "          action: 'append',\n",
              "          file: file.name,\n",
              "          data: base64,\n",
              "        },\n",
              "      };\n",
              "\n",
              "      let percentDone = fileData.byteLength === 0 ?\n",
              "          100 :\n",
              "          Math.round((position / fileData.byteLength) * 100);\n",
              "      percent.textContent = `${percentDone}% done`;\n",
              "\n",
              "    } while (position < fileData.byteLength);\n",
              "  }\n",
              "\n",
              "  // All done.\n",
              "  yield {\n",
              "    response: {\n",
              "      action: 'complete',\n",
              "    }\n",
              "  };\n",
              "}\n",
              "\n",
              "scope.google = scope.google || {};\n",
              "scope.google.colab = scope.google.colab || {};\n",
              "scope.google.colab._files = {\n",
              "  _uploadFiles,\n",
              "  _uploadFilesContinue,\n",
              "};\n",
              "})(self);\n",
              "</script> "
            ]
          },
          "metadata": {}
        },
        {
          "output_type": "stream",
          "name": "stdout",
          "text": [
            "Saving layoffs.csv to layoffs.csv\n"
          ]
        }
      ]
    },
    {
      "cell_type": "markdown",
      "source": [
        "# 1. Data Overview and Exploration"
      ],
      "metadata": {
        "id": "PnPatamIHCEO"
      }
    },
    {
      "cell_type": "code",
      "source": [
        "df = pd.read_csv(\"layoffs.csv\")\n",
        "df.head()\n"
      ],
      "metadata": {
        "colab": {
          "base_uri": "https://localhost:8080/",
          "height": 293
        },
        "id": "4DvBfeZC0V6T",
        "outputId": "8d042199-e7bf-49e6-ffc8-1f89ba07a245"
      },
      "execution_count": 4,
      "outputs": [
        {
          "output_type": "execute_result",
          "data": {
            "text/plain": [
              "            company         location  total_laid_off       date  \\\n",
              "0          WiseTech  Sydney,Non-U.S.             NaN  7/23/2025   \n",
              "1         ConsenSys    New York City            47.0  7/22/2025   \n",
              "2              Zeen      SF Bay Area             NaN  7/21/2025   \n",
              "3  Rocket Companies          Detroit             NaN  7/18/2025   \n",
              "4            Amazon          Seattle             NaN  7/17/2025   \n",
              "\n",
              "  percentage_laid_off     industry  \\\n",
              "0                 NaN    Logistics   \n",
              "1                  7%       Crypto   \n",
              "2                100%     Consumer   \n",
              "3                  2%  Real Estate   \n",
              "4                 NaN       Retail   \n",
              "\n",
              "                                              source     stage funds_raised  \\\n",
              "0  https://www.reuters.com/world/asia-pacific/aus...  Post-IPO        $3000   \n",
              "1  https://www.bloomberg.com/news/articles/2025-0...  Series D         $726   \n",
              "2  https://www.businessinsider.com/social-media-c...   Unknown           $9   \n",
              "3  https://www.housingwire.com/articles/rocket-la...  Post-IPO        $5200   \n",
              "4  https://www.reuters.com/business/retail-consum...  Post-IPO        $8100   \n",
              "\n",
              "         country date_added  \n",
              "0      Australia  7/24/2025  \n",
              "1  United States  7/22/2025  \n",
              "2  United States  7/22/2025  \n",
              "3  United States  7/22/2025  \n",
              "4  United States  7/18/2025  "
            ],
            "text/html": [
              "\n",
              "  <div id=\"df-0dc98fa9-4ed8-47bd-ad43-cc2c6ec30356\" class=\"colab-df-container\">\n",
              "    <div>\n",
              "<style scoped>\n",
              "    .dataframe tbody tr th:only-of-type {\n",
              "        vertical-align: middle;\n",
              "    }\n",
              "\n",
              "    .dataframe tbody tr th {\n",
              "        vertical-align: top;\n",
              "    }\n",
              "\n",
              "    .dataframe thead th {\n",
              "        text-align: right;\n",
              "    }\n",
              "</style>\n",
              "<table border=\"1\" class=\"dataframe\">\n",
              "  <thead>\n",
              "    <tr style=\"text-align: right;\">\n",
              "      <th></th>\n",
              "      <th>company</th>\n",
              "      <th>location</th>\n",
              "      <th>total_laid_off</th>\n",
              "      <th>date</th>\n",
              "      <th>percentage_laid_off</th>\n",
              "      <th>industry</th>\n",
              "      <th>source</th>\n",
              "      <th>stage</th>\n",
              "      <th>funds_raised</th>\n",
              "      <th>country</th>\n",
              "      <th>date_added</th>\n",
              "    </tr>\n",
              "  </thead>\n",
              "  <tbody>\n",
              "    <tr>\n",
              "      <th>0</th>\n",
              "      <td>WiseTech</td>\n",
              "      <td>Sydney,Non-U.S.</td>\n",
              "      <td>NaN</td>\n",
              "      <td>7/23/2025</td>\n",
              "      <td>NaN</td>\n",
              "      <td>Logistics</td>\n",
              "      <td>https://www.reuters.com/world/asia-pacific/aus...</td>\n",
              "      <td>Post-IPO</td>\n",
              "      <td>$3000</td>\n",
              "      <td>Australia</td>\n",
              "      <td>7/24/2025</td>\n",
              "    </tr>\n",
              "    <tr>\n",
              "      <th>1</th>\n",
              "      <td>ConsenSys</td>\n",
              "      <td>New York City</td>\n",
              "      <td>47.0</td>\n",
              "      <td>7/22/2025</td>\n",
              "      <td>7%</td>\n",
              "      <td>Crypto</td>\n",
              "      <td>https://www.bloomberg.com/news/articles/2025-0...</td>\n",
              "      <td>Series D</td>\n",
              "      <td>$726</td>\n",
              "      <td>United States</td>\n",
              "      <td>7/22/2025</td>\n",
              "    </tr>\n",
              "    <tr>\n",
              "      <th>2</th>\n",
              "      <td>Zeen</td>\n",
              "      <td>SF Bay Area</td>\n",
              "      <td>NaN</td>\n",
              "      <td>7/21/2025</td>\n",
              "      <td>100%</td>\n",
              "      <td>Consumer</td>\n",
              "      <td>https://www.businessinsider.com/social-media-c...</td>\n",
              "      <td>Unknown</td>\n",
              "      <td>$9</td>\n",
              "      <td>United States</td>\n",
              "      <td>7/22/2025</td>\n",
              "    </tr>\n",
              "    <tr>\n",
              "      <th>3</th>\n",
              "      <td>Rocket Companies</td>\n",
              "      <td>Detroit</td>\n",
              "      <td>NaN</td>\n",
              "      <td>7/18/2025</td>\n",
              "      <td>2%</td>\n",
              "      <td>Real Estate</td>\n",
              "      <td>https://www.housingwire.com/articles/rocket-la...</td>\n",
              "      <td>Post-IPO</td>\n",
              "      <td>$5200</td>\n",
              "      <td>United States</td>\n",
              "      <td>7/22/2025</td>\n",
              "    </tr>\n",
              "    <tr>\n",
              "      <th>4</th>\n",
              "      <td>Amazon</td>\n",
              "      <td>Seattle</td>\n",
              "      <td>NaN</td>\n",
              "      <td>7/17/2025</td>\n",
              "      <td>NaN</td>\n",
              "      <td>Retail</td>\n",
              "      <td>https://www.reuters.com/business/retail-consum...</td>\n",
              "      <td>Post-IPO</td>\n",
              "      <td>$8100</td>\n",
              "      <td>United States</td>\n",
              "      <td>7/18/2025</td>\n",
              "    </tr>\n",
              "  </tbody>\n",
              "</table>\n",
              "</div>\n",
              "    <div class=\"colab-df-buttons\">\n",
              "\n",
              "  <div class=\"colab-df-container\">\n",
              "    <button class=\"colab-df-convert\" onclick=\"convertToInteractive('df-0dc98fa9-4ed8-47bd-ad43-cc2c6ec30356')\"\n",
              "            title=\"Convert this dataframe to an interactive table.\"\n",
              "            style=\"display:none;\">\n",
              "\n",
              "  <svg xmlns=\"http://www.w3.org/2000/svg\" height=\"24px\" viewBox=\"0 -960 960 960\">\n",
              "    <path d=\"M120-120v-720h720v720H120Zm60-500h600v-160H180v160Zm220 220h160v-160H400v160Zm0 220h160v-160H400v160ZM180-400h160v-160H180v160Zm440 0h160v-160H620v160ZM180-180h160v-160H180v160Zm440 0h160v-160H620v160Z\"/>\n",
              "  </svg>\n",
              "    </button>\n",
              "\n",
              "  <style>\n",
              "    .colab-df-container {\n",
              "      display:flex;\n",
              "      gap: 12px;\n",
              "    }\n",
              "\n",
              "    .colab-df-convert {\n",
              "      background-color: #E8F0FE;\n",
              "      border: none;\n",
              "      border-radius: 50%;\n",
              "      cursor: pointer;\n",
              "      display: none;\n",
              "      fill: #1967D2;\n",
              "      height: 32px;\n",
              "      padding: 0 0 0 0;\n",
              "      width: 32px;\n",
              "    }\n",
              "\n",
              "    .colab-df-convert:hover {\n",
              "      background-color: #E2EBFA;\n",
              "      box-shadow: 0px 1px 2px rgba(60, 64, 67, 0.3), 0px 1px 3px 1px rgba(60, 64, 67, 0.15);\n",
              "      fill: #174EA6;\n",
              "    }\n",
              "\n",
              "    .colab-df-buttons div {\n",
              "      margin-bottom: 4px;\n",
              "    }\n",
              "\n",
              "    [theme=dark] .colab-df-convert {\n",
              "      background-color: #3B4455;\n",
              "      fill: #D2E3FC;\n",
              "    }\n",
              "\n",
              "    [theme=dark] .colab-df-convert:hover {\n",
              "      background-color: #434B5C;\n",
              "      box-shadow: 0px 1px 3px 1px rgba(0, 0, 0, 0.15);\n",
              "      filter: drop-shadow(0px 1px 2px rgba(0, 0, 0, 0.3));\n",
              "      fill: #FFFFFF;\n",
              "    }\n",
              "  </style>\n",
              "\n",
              "    <script>\n",
              "      const buttonEl =\n",
              "        document.querySelector('#df-0dc98fa9-4ed8-47bd-ad43-cc2c6ec30356 button.colab-df-convert');\n",
              "      buttonEl.style.display =\n",
              "        google.colab.kernel.accessAllowed ? 'block' : 'none';\n",
              "\n",
              "      async function convertToInteractive(key) {\n",
              "        const element = document.querySelector('#df-0dc98fa9-4ed8-47bd-ad43-cc2c6ec30356');\n",
              "        const dataTable =\n",
              "          await google.colab.kernel.invokeFunction('convertToInteractive',\n",
              "                                                    [key], {});\n",
              "        if (!dataTable) return;\n",
              "\n",
              "        const docLinkHtml = 'Like what you see? Visit the ' +\n",
              "          '<a target=\"_blank\" href=https://colab.research.google.com/notebooks/data_table.ipynb>data table notebook</a>'\n",
              "          + ' to learn more about interactive tables.';\n",
              "        element.innerHTML = '';\n",
              "        dataTable['output_type'] = 'display_data';\n",
              "        await google.colab.output.renderOutput(dataTable, element);\n",
              "        const docLink = document.createElement('div');\n",
              "        docLink.innerHTML = docLinkHtml;\n",
              "        element.appendChild(docLink);\n",
              "      }\n",
              "    </script>\n",
              "  </div>\n",
              "\n",
              "\n",
              "    <div id=\"df-0c35e52b-3156-44ec-b196-01445e8897e4\">\n",
              "      <button class=\"colab-df-quickchart\" onclick=\"quickchart('df-0c35e52b-3156-44ec-b196-01445e8897e4')\"\n",
              "                title=\"Suggest charts\"\n",
              "                style=\"display:none;\">\n",
              "\n",
              "<svg xmlns=\"http://www.w3.org/2000/svg\" height=\"24px\"viewBox=\"0 0 24 24\"\n",
              "     width=\"24px\">\n",
              "    <g>\n",
              "        <path d=\"M19 3H5c-1.1 0-2 .9-2 2v14c0 1.1.9 2 2 2h14c1.1 0 2-.9 2-2V5c0-1.1-.9-2-2-2zM9 17H7v-7h2v7zm4 0h-2V7h2v10zm4 0h-2v-4h2v4z\"/>\n",
              "    </g>\n",
              "</svg>\n",
              "      </button>\n",
              "\n",
              "<style>\n",
              "  .colab-df-quickchart {\n",
              "      --bg-color: #E8F0FE;\n",
              "      --fill-color: #1967D2;\n",
              "      --hover-bg-color: #E2EBFA;\n",
              "      --hover-fill-color: #174EA6;\n",
              "      --disabled-fill-color: #AAA;\n",
              "      --disabled-bg-color: #DDD;\n",
              "  }\n",
              "\n",
              "  [theme=dark] .colab-df-quickchart {\n",
              "      --bg-color: #3B4455;\n",
              "      --fill-color: #D2E3FC;\n",
              "      --hover-bg-color: #434B5C;\n",
              "      --hover-fill-color: #FFFFFF;\n",
              "      --disabled-bg-color: #3B4455;\n",
              "      --disabled-fill-color: #666;\n",
              "  }\n",
              "\n",
              "  .colab-df-quickchart {\n",
              "    background-color: var(--bg-color);\n",
              "    border: none;\n",
              "    border-radius: 50%;\n",
              "    cursor: pointer;\n",
              "    display: none;\n",
              "    fill: var(--fill-color);\n",
              "    height: 32px;\n",
              "    padding: 0;\n",
              "    width: 32px;\n",
              "  }\n",
              "\n",
              "  .colab-df-quickchart:hover {\n",
              "    background-color: var(--hover-bg-color);\n",
              "    box-shadow: 0 1px 2px rgba(60, 64, 67, 0.3), 0 1px 3px 1px rgba(60, 64, 67, 0.15);\n",
              "    fill: var(--button-hover-fill-color);\n",
              "  }\n",
              "\n",
              "  .colab-df-quickchart-complete:disabled,\n",
              "  .colab-df-quickchart-complete:disabled:hover {\n",
              "    background-color: var(--disabled-bg-color);\n",
              "    fill: var(--disabled-fill-color);\n",
              "    box-shadow: none;\n",
              "  }\n",
              "\n",
              "  .colab-df-spinner {\n",
              "    border: 2px solid var(--fill-color);\n",
              "    border-color: transparent;\n",
              "    border-bottom-color: var(--fill-color);\n",
              "    animation:\n",
              "      spin 1s steps(1) infinite;\n",
              "  }\n",
              "\n",
              "  @keyframes spin {\n",
              "    0% {\n",
              "      border-color: transparent;\n",
              "      border-bottom-color: var(--fill-color);\n",
              "      border-left-color: var(--fill-color);\n",
              "    }\n",
              "    20% {\n",
              "      border-color: transparent;\n",
              "      border-left-color: var(--fill-color);\n",
              "      border-top-color: var(--fill-color);\n",
              "    }\n",
              "    30% {\n",
              "      border-color: transparent;\n",
              "      border-left-color: var(--fill-color);\n",
              "      border-top-color: var(--fill-color);\n",
              "      border-right-color: var(--fill-color);\n",
              "    }\n",
              "    40% {\n",
              "      border-color: transparent;\n",
              "      border-right-color: var(--fill-color);\n",
              "      border-top-color: var(--fill-color);\n",
              "    }\n",
              "    60% {\n",
              "      border-color: transparent;\n",
              "      border-right-color: var(--fill-color);\n",
              "    }\n",
              "    80% {\n",
              "      border-color: transparent;\n",
              "      border-right-color: var(--fill-color);\n",
              "      border-bottom-color: var(--fill-color);\n",
              "    }\n",
              "    90% {\n",
              "      border-color: transparent;\n",
              "      border-bottom-color: var(--fill-color);\n",
              "    }\n",
              "  }\n",
              "</style>\n",
              "\n",
              "      <script>\n",
              "        async function quickchart(key) {\n",
              "          const quickchartButtonEl =\n",
              "            document.querySelector('#' + key + ' button');\n",
              "          quickchartButtonEl.disabled = true;  // To prevent multiple clicks.\n",
              "          quickchartButtonEl.classList.add('colab-df-spinner');\n",
              "          try {\n",
              "            const charts = await google.colab.kernel.invokeFunction(\n",
              "                'suggestCharts', [key], {});\n",
              "          } catch (error) {\n",
              "            console.error('Error during call to suggestCharts:', error);\n",
              "          }\n",
              "          quickchartButtonEl.classList.remove('colab-df-spinner');\n",
              "          quickchartButtonEl.classList.add('colab-df-quickchart-complete');\n",
              "        }\n",
              "        (() => {\n",
              "          let quickchartButtonEl =\n",
              "            document.querySelector('#df-0c35e52b-3156-44ec-b196-01445e8897e4 button');\n",
              "          quickchartButtonEl.style.display =\n",
              "            google.colab.kernel.accessAllowed ? 'block' : 'none';\n",
              "        })();\n",
              "      </script>\n",
              "    </div>\n",
              "\n",
              "    </div>\n",
              "  </div>\n"
            ],
            "application/vnd.google.colaboratory.intrinsic+json": {
              "type": "dataframe",
              "variable_name": "df",
              "summary": "{\n  \"name\": \"df\",\n  \"rows\": 4115,\n  \"fields\": [\n    {\n      \"column\": \"company\",\n      \"properties\": {\n        \"dtype\": \"string\",\n        \"num_unique_values\": 2813,\n        \"samples\": [\n          \"Ola\",\n          \"Marqeta\",\n          \"Bishop Fox\"\n        ],\n        \"semantic_type\": \"\",\n        \"description\": \"\"\n      }\n    },\n    {\n      \"column\": \"location\",\n      \"properties\": {\n        \"dtype\": \"category\",\n        \"num_unique_values\": 264,\n        \"samples\": [\n          \"Nicosia\",\n          \"Jersey City\",\n          \"Nairobi,Non-U.S.\"\n        ],\n        \"semantic_type\": \"\",\n        \"description\": \"\"\n      }\n    },\n    {\n      \"column\": \"total_laid_off\",\n      \"properties\": {\n        \"dtype\": \"number\",\n        \"std\": 977.1845812403708,\n        \"min\": 3.0,\n        \"max\": 22000.0,\n        \"num_unique_values\": 367,\n        \"samples\": [\n          84.0,\n          20.0,\n          30.0\n        ],\n        \"semantic_type\": \"\",\n        \"description\": \"\"\n      }\n    },\n    {\n      \"column\": \"date\",\n      \"properties\": {\n        \"dtype\": \"object\",\n        \"num_unique_values\": 1073,\n        \"samples\": [\n          \"6/23/2020\",\n          \"8/24/2022\",\n          \"3/19/2020\"\n        ],\n        \"semantic_type\": \"\",\n        \"description\": \"\"\n      }\n    },\n    {\n      \"column\": \"percentage_laid_off\",\n      \"properties\": {\n        \"dtype\": \"category\",\n        \"num_unique_values\": 73,\n        \"samples\": [\n          \"3%\",\n          \"48%\",\n          \"13%\"\n        ],\n        \"semantic_type\": \"\",\n        \"description\": \"\"\n      }\n    },\n    {\n      \"column\": \"industry\",\n      \"properties\": {\n        \"dtype\": \"category\",\n        \"num_unique_values\": 30,\n        \"samples\": [\n          \"Construction\",\n          \"Education\",\n          \"Infrastructure\"\n        ],\n        \"semantic_type\": \"\",\n        \"description\": \"\"\n      }\n    },\n    {\n      \"column\": \"source\",\n      \"properties\": {\n        \"dtype\": \"string\",\n        \"num_unique_values\": 3866,\n        \"samples\": [\n          \"https://betakit.com/one-year-after-raising-6-5-million-goodgood-shuts-down-claiming-it-cant-find-more-money/\",\n          \"https://financefwd.com/de/moss-mitarbeiter-entlassungen-2/\",\n          \"https://www.calcalistech.com/ctechnews/article/hjailhyri\"\n        ],\n        \"semantic_type\": \"\",\n        \"description\": \"\"\n      }\n    },\n    {\n      \"column\": \"stage\",\n      \"properties\": {\n        \"dtype\": \"category\",\n        \"num_unique_values\": 16,\n        \"samples\": [\n          \"Post-IPO\",\n          \"Series D\",\n          \"Acquired\"\n        ],\n        \"semantic_type\": \"\",\n        \"description\": \"\"\n      }\n    },\n    {\n      \"column\": \"funds_raised\",\n      \"properties\": {\n        \"dtype\": \"category\",\n        \"num_unique_values\": 717,\n        \"samples\": [\n          \"$451\",\n          \"$733\",\n          \"$3\"\n        ],\n        \"semantic_type\": \"\",\n        \"description\": \"\"\n      }\n    },\n    {\n      \"column\": \"country\",\n      \"properties\": {\n        \"dtype\": \"category\",\n        \"num_unique_values\": 66,\n        \"samples\": [\n          \"Hungary\",\n          \"Russia\",\n          \"Australia\"\n        ],\n        \"semantic_type\": \"\",\n        \"description\": \"\"\n      }\n    },\n    {\n      \"column\": \"date_added\",\n      \"properties\": {\n        \"dtype\": \"object\",\n        \"num_unique_values\": 946,\n        \"samples\": [\n          \"10/8/2023\",\n          \"4/16/2025\",\n          \"9/28/2020\"\n        ],\n        \"semantic_type\": \"\",\n        \"description\": \"\"\n      }\n    }\n  ]\n}"
            }
          },
          "metadata": {},
          "execution_count": 4
        }
      ]
    },
    {
      "cell_type": "code",
      "source": [
        "df.info()"
      ],
      "metadata": {
        "colab": {
          "base_uri": "https://localhost:8080/"
        },
        "id": "Y9gTkDKk0fFQ",
        "outputId": "2383ba9a-e247-4d9f-c5ce-32cb2d73dacb"
      },
      "execution_count": 5,
      "outputs": [
        {
          "output_type": "stream",
          "name": "stdout",
          "text": [
            "<class 'pandas.core.frame.DataFrame'>\n",
            "RangeIndex: 4115 entries, 0 to 4114\n",
            "Data columns (total 11 columns):\n",
            " #   Column               Non-Null Count  Dtype  \n",
            "---  ------               --------------  -----  \n",
            " 0   company              4115 non-null   object \n",
            " 1   location             4114 non-null   object \n",
            " 2   total_laid_off       2682 non-null   float64\n",
            " 3   date                 4115 non-null   object \n",
            " 4   percentage_laid_off  2619 non-null   object \n",
            " 5   industry             4114 non-null   object \n",
            " 6   source               4112 non-null   object \n",
            " 7   stage                4108 non-null   object \n",
            " 8   funds_raised         3663 non-null   object \n",
            " 9   country              4113 non-null   object \n",
            " 10  date_added           4115 non-null   object \n",
            "dtypes: float64(1), object(10)\n",
            "memory usage: 353.8+ KB\n"
          ]
        }
      ]
    },
    {
      "cell_type": "code",
      "source": [
        "df.describe()"
      ],
      "metadata": {
        "colab": {
          "base_uri": "https://localhost:8080/",
          "height": 300
        },
        "id": "HWOv74YfY5Oo",
        "outputId": "8da034d8-62fa-4727-ba2b-09632df33ebe"
      },
      "execution_count": 6,
      "outputs": [
        {
          "output_type": "execute_result",
          "data": {
            "text/plain": [
              "       total_laid_off\n",
              "count     2682.000000\n",
              "mean       283.140194\n",
              "std        977.184581\n",
              "min          3.000000\n",
              "25%         40.000000\n",
              "50%         85.000000\n",
              "75%        200.000000\n",
              "max      22000.000000"
            ],
            "text/html": [
              "\n",
              "  <div id=\"df-d35d7f98-1812-4f6f-8286-1defa1acd7c7\" class=\"colab-df-container\">\n",
              "    <div>\n",
              "<style scoped>\n",
              "    .dataframe tbody tr th:only-of-type {\n",
              "        vertical-align: middle;\n",
              "    }\n",
              "\n",
              "    .dataframe tbody tr th {\n",
              "        vertical-align: top;\n",
              "    }\n",
              "\n",
              "    .dataframe thead th {\n",
              "        text-align: right;\n",
              "    }\n",
              "</style>\n",
              "<table border=\"1\" class=\"dataframe\">\n",
              "  <thead>\n",
              "    <tr style=\"text-align: right;\">\n",
              "      <th></th>\n",
              "      <th>total_laid_off</th>\n",
              "    </tr>\n",
              "  </thead>\n",
              "  <tbody>\n",
              "    <tr>\n",
              "      <th>count</th>\n",
              "      <td>2682.000000</td>\n",
              "    </tr>\n",
              "    <tr>\n",
              "      <th>mean</th>\n",
              "      <td>283.140194</td>\n",
              "    </tr>\n",
              "    <tr>\n",
              "      <th>std</th>\n",
              "      <td>977.184581</td>\n",
              "    </tr>\n",
              "    <tr>\n",
              "      <th>min</th>\n",
              "      <td>3.000000</td>\n",
              "    </tr>\n",
              "    <tr>\n",
              "      <th>25%</th>\n",
              "      <td>40.000000</td>\n",
              "    </tr>\n",
              "    <tr>\n",
              "      <th>50%</th>\n",
              "      <td>85.000000</td>\n",
              "    </tr>\n",
              "    <tr>\n",
              "      <th>75%</th>\n",
              "      <td>200.000000</td>\n",
              "    </tr>\n",
              "    <tr>\n",
              "      <th>max</th>\n",
              "      <td>22000.000000</td>\n",
              "    </tr>\n",
              "  </tbody>\n",
              "</table>\n",
              "</div>\n",
              "    <div class=\"colab-df-buttons\">\n",
              "\n",
              "  <div class=\"colab-df-container\">\n",
              "    <button class=\"colab-df-convert\" onclick=\"convertToInteractive('df-d35d7f98-1812-4f6f-8286-1defa1acd7c7')\"\n",
              "            title=\"Convert this dataframe to an interactive table.\"\n",
              "            style=\"display:none;\">\n",
              "\n",
              "  <svg xmlns=\"http://www.w3.org/2000/svg\" height=\"24px\" viewBox=\"0 -960 960 960\">\n",
              "    <path d=\"M120-120v-720h720v720H120Zm60-500h600v-160H180v160Zm220 220h160v-160H400v160Zm0 220h160v-160H400v160ZM180-400h160v-160H180v160Zm440 0h160v-160H620v160ZM180-180h160v-160H180v160Zm440 0h160v-160H620v160Z\"/>\n",
              "  </svg>\n",
              "    </button>\n",
              "\n",
              "  <style>\n",
              "    .colab-df-container {\n",
              "      display:flex;\n",
              "      gap: 12px;\n",
              "    }\n",
              "\n",
              "    .colab-df-convert {\n",
              "      background-color: #E8F0FE;\n",
              "      border: none;\n",
              "      border-radius: 50%;\n",
              "      cursor: pointer;\n",
              "      display: none;\n",
              "      fill: #1967D2;\n",
              "      height: 32px;\n",
              "      padding: 0 0 0 0;\n",
              "      width: 32px;\n",
              "    }\n",
              "\n",
              "    .colab-df-convert:hover {\n",
              "      background-color: #E2EBFA;\n",
              "      box-shadow: 0px 1px 2px rgba(60, 64, 67, 0.3), 0px 1px 3px 1px rgba(60, 64, 67, 0.15);\n",
              "      fill: #174EA6;\n",
              "    }\n",
              "\n",
              "    .colab-df-buttons div {\n",
              "      margin-bottom: 4px;\n",
              "    }\n",
              "\n",
              "    [theme=dark] .colab-df-convert {\n",
              "      background-color: #3B4455;\n",
              "      fill: #D2E3FC;\n",
              "    }\n",
              "\n",
              "    [theme=dark] .colab-df-convert:hover {\n",
              "      background-color: #434B5C;\n",
              "      box-shadow: 0px 1px 3px 1px rgba(0, 0, 0, 0.15);\n",
              "      filter: drop-shadow(0px 1px 2px rgba(0, 0, 0, 0.3));\n",
              "      fill: #FFFFFF;\n",
              "    }\n",
              "  </style>\n",
              "\n",
              "    <script>\n",
              "      const buttonEl =\n",
              "        document.querySelector('#df-d35d7f98-1812-4f6f-8286-1defa1acd7c7 button.colab-df-convert');\n",
              "      buttonEl.style.display =\n",
              "        google.colab.kernel.accessAllowed ? 'block' : 'none';\n",
              "\n",
              "      async function convertToInteractive(key) {\n",
              "        const element = document.querySelector('#df-d35d7f98-1812-4f6f-8286-1defa1acd7c7');\n",
              "        const dataTable =\n",
              "          await google.colab.kernel.invokeFunction('convertToInteractive',\n",
              "                                                    [key], {});\n",
              "        if (!dataTable) return;\n",
              "\n",
              "        const docLinkHtml = 'Like what you see? Visit the ' +\n",
              "          '<a target=\"_blank\" href=https://colab.research.google.com/notebooks/data_table.ipynb>data table notebook</a>'\n",
              "          + ' to learn more about interactive tables.';\n",
              "        element.innerHTML = '';\n",
              "        dataTable['output_type'] = 'display_data';\n",
              "        await google.colab.output.renderOutput(dataTable, element);\n",
              "        const docLink = document.createElement('div');\n",
              "        docLink.innerHTML = docLinkHtml;\n",
              "        element.appendChild(docLink);\n",
              "      }\n",
              "    </script>\n",
              "  </div>\n",
              "\n",
              "\n",
              "    <div id=\"df-250734ea-b29a-49e7-802c-bd1a0f7928aa\">\n",
              "      <button class=\"colab-df-quickchart\" onclick=\"quickchart('df-250734ea-b29a-49e7-802c-bd1a0f7928aa')\"\n",
              "                title=\"Suggest charts\"\n",
              "                style=\"display:none;\">\n",
              "\n",
              "<svg xmlns=\"http://www.w3.org/2000/svg\" height=\"24px\"viewBox=\"0 0 24 24\"\n",
              "     width=\"24px\">\n",
              "    <g>\n",
              "        <path d=\"M19 3H5c-1.1 0-2 .9-2 2v14c0 1.1.9 2 2 2h14c1.1 0 2-.9 2-2V5c0-1.1-.9-2-2-2zM9 17H7v-7h2v7zm4 0h-2V7h2v10zm4 0h-2v-4h2v4z\"/>\n",
              "    </g>\n",
              "</svg>\n",
              "      </button>\n",
              "\n",
              "<style>\n",
              "  .colab-df-quickchart {\n",
              "      --bg-color: #E8F0FE;\n",
              "      --fill-color: #1967D2;\n",
              "      --hover-bg-color: #E2EBFA;\n",
              "      --hover-fill-color: #174EA6;\n",
              "      --disabled-fill-color: #AAA;\n",
              "      --disabled-bg-color: #DDD;\n",
              "  }\n",
              "\n",
              "  [theme=dark] .colab-df-quickchart {\n",
              "      --bg-color: #3B4455;\n",
              "      --fill-color: #D2E3FC;\n",
              "      --hover-bg-color: #434B5C;\n",
              "      --hover-fill-color: #FFFFFF;\n",
              "      --disabled-bg-color: #3B4455;\n",
              "      --disabled-fill-color: #666;\n",
              "  }\n",
              "\n",
              "  .colab-df-quickchart {\n",
              "    background-color: var(--bg-color);\n",
              "    border: none;\n",
              "    border-radius: 50%;\n",
              "    cursor: pointer;\n",
              "    display: none;\n",
              "    fill: var(--fill-color);\n",
              "    height: 32px;\n",
              "    padding: 0;\n",
              "    width: 32px;\n",
              "  }\n",
              "\n",
              "  .colab-df-quickchart:hover {\n",
              "    background-color: var(--hover-bg-color);\n",
              "    box-shadow: 0 1px 2px rgba(60, 64, 67, 0.3), 0 1px 3px 1px rgba(60, 64, 67, 0.15);\n",
              "    fill: var(--button-hover-fill-color);\n",
              "  }\n",
              "\n",
              "  .colab-df-quickchart-complete:disabled,\n",
              "  .colab-df-quickchart-complete:disabled:hover {\n",
              "    background-color: var(--disabled-bg-color);\n",
              "    fill: var(--disabled-fill-color);\n",
              "    box-shadow: none;\n",
              "  }\n",
              "\n",
              "  .colab-df-spinner {\n",
              "    border: 2px solid var(--fill-color);\n",
              "    border-color: transparent;\n",
              "    border-bottom-color: var(--fill-color);\n",
              "    animation:\n",
              "      spin 1s steps(1) infinite;\n",
              "  }\n",
              "\n",
              "  @keyframes spin {\n",
              "    0% {\n",
              "      border-color: transparent;\n",
              "      border-bottom-color: var(--fill-color);\n",
              "      border-left-color: var(--fill-color);\n",
              "    }\n",
              "    20% {\n",
              "      border-color: transparent;\n",
              "      border-left-color: var(--fill-color);\n",
              "      border-top-color: var(--fill-color);\n",
              "    }\n",
              "    30% {\n",
              "      border-color: transparent;\n",
              "      border-left-color: var(--fill-color);\n",
              "      border-top-color: var(--fill-color);\n",
              "      border-right-color: var(--fill-color);\n",
              "    }\n",
              "    40% {\n",
              "      border-color: transparent;\n",
              "      border-right-color: var(--fill-color);\n",
              "      border-top-color: var(--fill-color);\n",
              "    }\n",
              "    60% {\n",
              "      border-color: transparent;\n",
              "      border-right-color: var(--fill-color);\n",
              "    }\n",
              "    80% {\n",
              "      border-color: transparent;\n",
              "      border-right-color: var(--fill-color);\n",
              "      border-bottom-color: var(--fill-color);\n",
              "    }\n",
              "    90% {\n",
              "      border-color: transparent;\n",
              "      border-bottom-color: var(--fill-color);\n",
              "    }\n",
              "  }\n",
              "</style>\n",
              "\n",
              "      <script>\n",
              "        async function quickchart(key) {\n",
              "          const quickchartButtonEl =\n",
              "            document.querySelector('#' + key + ' button');\n",
              "          quickchartButtonEl.disabled = true;  // To prevent multiple clicks.\n",
              "          quickchartButtonEl.classList.add('colab-df-spinner');\n",
              "          try {\n",
              "            const charts = await google.colab.kernel.invokeFunction(\n",
              "                'suggestCharts', [key], {});\n",
              "          } catch (error) {\n",
              "            console.error('Error during call to suggestCharts:', error);\n",
              "          }\n",
              "          quickchartButtonEl.classList.remove('colab-df-spinner');\n",
              "          quickchartButtonEl.classList.add('colab-df-quickchart-complete');\n",
              "        }\n",
              "        (() => {\n",
              "          let quickchartButtonEl =\n",
              "            document.querySelector('#df-250734ea-b29a-49e7-802c-bd1a0f7928aa button');\n",
              "          quickchartButtonEl.style.display =\n",
              "            google.colab.kernel.accessAllowed ? 'block' : 'none';\n",
              "        })();\n",
              "      </script>\n",
              "    </div>\n",
              "\n",
              "    </div>\n",
              "  </div>\n"
            ],
            "application/vnd.google.colaboratory.intrinsic+json": {
              "type": "dataframe",
              "summary": "{\n  \"name\": \"df\",\n  \"rows\": 8,\n  \"fields\": [\n    {\n      \"column\": \"total_laid_off\",\n      \"properties\": {\n        \"dtype\": \"number\",\n        \"std\": 7615.8741229973575,\n        \"min\": 3.0,\n        \"max\": 22000.0,\n        \"num_unique_values\": 8,\n        \"samples\": [\n          283.14019388516033,\n          85.0,\n          2682.0\n        ],\n        \"semantic_type\": \"\",\n        \"description\": \"\"\n      }\n    }\n  ]\n}"
            }
          },
          "metadata": {},
          "execution_count": 6
        }
      ]
    },
    {
      "cell_type": "code",
      "source": [
        "df.head()"
      ],
      "metadata": {
        "colab": {
          "base_uri": "https://localhost:8080/",
          "height": 293
        },
        "id": "9cP7XBeJdlWM",
        "outputId": "39be0314-843b-4e7d-df58-6c8a9741e68f"
      },
      "execution_count": null,
      "outputs": [
        {
          "output_type": "execute_result",
          "data": {
            "text/plain": [
              "            company         location  total_laid_off       date  \\\n",
              "0          WiseTech  Sydney,Non-U.S.             NaN  7/23/2025   \n",
              "1         ConsenSys    New York City            47.0  7/22/2025   \n",
              "2              Zeen      SF Bay Area             NaN  7/21/2025   \n",
              "3  Rocket Companies          Detroit             NaN  7/18/2025   \n",
              "4            Amazon          Seattle             NaN  7/17/2025   \n",
              "\n",
              "  percentage_laid_off     industry  \\\n",
              "0                 NaN    Logistics   \n",
              "1                  7%       Crypto   \n",
              "2                100%     Consumer   \n",
              "3                  2%  Real Estate   \n",
              "4                 NaN       Retail   \n",
              "\n",
              "                                              source     stage funds_raised  \\\n",
              "0  https://www.reuters.com/world/asia-pacific/aus...  Post-IPO        $3000   \n",
              "1  https://www.bloomberg.com/news/articles/2025-0...  Series D         $726   \n",
              "2  https://www.businessinsider.com/social-media-c...   Unknown           $9   \n",
              "3  https://www.housingwire.com/articles/rocket-la...  Post-IPO        $5200   \n",
              "4  https://www.reuters.com/business/retail-consum...  Post-IPO        $8100   \n",
              "\n",
              "         country date_added  \n",
              "0      Australia  7/24/2025  \n",
              "1  United States  7/22/2025  \n",
              "2  United States  7/22/2025  \n",
              "3  United States  7/22/2025  \n",
              "4  United States  7/18/2025  "
            ],
            "text/html": [
              "\n",
              "  <div id=\"df-7dc4139e-f307-4520-a817-3b699c904477\" class=\"colab-df-container\">\n",
              "    <div>\n",
              "<style scoped>\n",
              "    .dataframe tbody tr th:only-of-type {\n",
              "        vertical-align: middle;\n",
              "    }\n",
              "\n",
              "    .dataframe tbody tr th {\n",
              "        vertical-align: top;\n",
              "    }\n",
              "\n",
              "    .dataframe thead th {\n",
              "        text-align: right;\n",
              "    }\n",
              "</style>\n",
              "<table border=\"1\" class=\"dataframe\">\n",
              "  <thead>\n",
              "    <tr style=\"text-align: right;\">\n",
              "      <th></th>\n",
              "      <th>company</th>\n",
              "      <th>location</th>\n",
              "      <th>total_laid_off</th>\n",
              "      <th>date</th>\n",
              "      <th>percentage_laid_off</th>\n",
              "      <th>industry</th>\n",
              "      <th>source</th>\n",
              "      <th>stage</th>\n",
              "      <th>funds_raised</th>\n",
              "      <th>country</th>\n",
              "      <th>date_added</th>\n",
              "    </tr>\n",
              "  </thead>\n",
              "  <tbody>\n",
              "    <tr>\n",
              "      <th>0</th>\n",
              "      <td>WiseTech</td>\n",
              "      <td>Sydney,Non-U.S.</td>\n",
              "      <td>NaN</td>\n",
              "      <td>7/23/2025</td>\n",
              "      <td>NaN</td>\n",
              "      <td>Logistics</td>\n",
              "      <td>https://www.reuters.com/world/asia-pacific/aus...</td>\n",
              "      <td>Post-IPO</td>\n",
              "      <td>$3000</td>\n",
              "      <td>Australia</td>\n",
              "      <td>7/24/2025</td>\n",
              "    </tr>\n",
              "    <tr>\n",
              "      <th>1</th>\n",
              "      <td>ConsenSys</td>\n",
              "      <td>New York City</td>\n",
              "      <td>47.0</td>\n",
              "      <td>7/22/2025</td>\n",
              "      <td>7%</td>\n",
              "      <td>Crypto</td>\n",
              "      <td>https://www.bloomberg.com/news/articles/2025-0...</td>\n",
              "      <td>Series D</td>\n",
              "      <td>$726</td>\n",
              "      <td>United States</td>\n",
              "      <td>7/22/2025</td>\n",
              "    </tr>\n",
              "    <tr>\n",
              "      <th>2</th>\n",
              "      <td>Zeen</td>\n",
              "      <td>SF Bay Area</td>\n",
              "      <td>NaN</td>\n",
              "      <td>7/21/2025</td>\n",
              "      <td>100%</td>\n",
              "      <td>Consumer</td>\n",
              "      <td>https://www.businessinsider.com/social-media-c...</td>\n",
              "      <td>Unknown</td>\n",
              "      <td>$9</td>\n",
              "      <td>United States</td>\n",
              "      <td>7/22/2025</td>\n",
              "    </tr>\n",
              "    <tr>\n",
              "      <th>3</th>\n",
              "      <td>Rocket Companies</td>\n",
              "      <td>Detroit</td>\n",
              "      <td>NaN</td>\n",
              "      <td>7/18/2025</td>\n",
              "      <td>2%</td>\n",
              "      <td>Real Estate</td>\n",
              "      <td>https://www.housingwire.com/articles/rocket-la...</td>\n",
              "      <td>Post-IPO</td>\n",
              "      <td>$5200</td>\n",
              "      <td>United States</td>\n",
              "      <td>7/22/2025</td>\n",
              "    </tr>\n",
              "    <tr>\n",
              "      <th>4</th>\n",
              "      <td>Amazon</td>\n",
              "      <td>Seattle</td>\n",
              "      <td>NaN</td>\n",
              "      <td>7/17/2025</td>\n",
              "      <td>NaN</td>\n",
              "      <td>Retail</td>\n",
              "      <td>https://www.reuters.com/business/retail-consum...</td>\n",
              "      <td>Post-IPO</td>\n",
              "      <td>$8100</td>\n",
              "      <td>United States</td>\n",
              "      <td>7/18/2025</td>\n",
              "    </tr>\n",
              "  </tbody>\n",
              "</table>\n",
              "</div>\n",
              "    <div class=\"colab-df-buttons\">\n",
              "\n",
              "  <div class=\"colab-df-container\">\n",
              "    <button class=\"colab-df-convert\" onclick=\"convertToInteractive('df-7dc4139e-f307-4520-a817-3b699c904477')\"\n",
              "            title=\"Convert this dataframe to an interactive table.\"\n",
              "            style=\"display:none;\">\n",
              "\n",
              "  <svg xmlns=\"http://www.w3.org/2000/svg\" height=\"24px\" viewBox=\"0 -960 960 960\">\n",
              "    <path d=\"M120-120v-720h720v720H120Zm60-500h600v-160H180v160Zm220 220h160v-160H400v160Zm0 220h160v-160H400v160ZM180-400h160v-160H180v160Zm440 0h160v-160H620v160ZM180-180h160v-160H180v160Zm440 0h160v-160H620v160Z\"/>\n",
              "  </svg>\n",
              "    </button>\n",
              "\n",
              "  <style>\n",
              "    .colab-df-container {\n",
              "      display:flex;\n",
              "      gap: 12px;\n",
              "    }\n",
              "\n",
              "    .colab-df-convert {\n",
              "      background-color: #E8F0FE;\n",
              "      border: none;\n",
              "      border-radius: 50%;\n",
              "      cursor: pointer;\n",
              "      display: none;\n",
              "      fill: #1967D2;\n",
              "      height: 32px;\n",
              "      padding: 0 0 0 0;\n",
              "      width: 32px;\n",
              "    }\n",
              "\n",
              "    .colab-df-convert:hover {\n",
              "      background-color: #E2EBFA;\n",
              "      box-shadow: 0px 1px 2px rgba(60, 64, 67, 0.3), 0px 1px 3px 1px rgba(60, 64, 67, 0.15);\n",
              "      fill: #174EA6;\n",
              "    }\n",
              "\n",
              "    .colab-df-buttons div {\n",
              "      margin-bottom: 4px;\n",
              "    }\n",
              "\n",
              "    [theme=dark] .colab-df-convert {\n",
              "      background-color: #3B4455;\n",
              "      fill: #D2E3FC;\n",
              "    }\n",
              "\n",
              "    [theme=dark] .colab-df-convert:hover {\n",
              "      background-color: #434B5C;\n",
              "      box-shadow: 0px 1px 3px 1px rgba(0, 0, 0, 0.15);\n",
              "      filter: drop-shadow(0px 1px 2px rgba(0, 0, 0, 0.3));\n",
              "      fill: #FFFFFF;\n",
              "    }\n",
              "  </style>\n",
              "\n",
              "    <script>\n",
              "      const buttonEl =\n",
              "        document.querySelector('#df-7dc4139e-f307-4520-a817-3b699c904477 button.colab-df-convert');\n",
              "      buttonEl.style.display =\n",
              "        google.colab.kernel.accessAllowed ? 'block' : 'none';\n",
              "\n",
              "      async function convertToInteractive(key) {\n",
              "        const element = document.querySelector('#df-7dc4139e-f307-4520-a817-3b699c904477');\n",
              "        const dataTable =\n",
              "          await google.colab.kernel.invokeFunction('convertToInteractive',\n",
              "                                                    [key], {});\n",
              "        if (!dataTable) return;\n",
              "\n",
              "        const docLinkHtml = 'Like what you see? Visit the ' +\n",
              "          '<a target=\"_blank\" href=https://colab.research.google.com/notebooks/data_table.ipynb>data table notebook</a>'\n",
              "          + ' to learn more about interactive tables.';\n",
              "        element.innerHTML = '';\n",
              "        dataTable['output_type'] = 'display_data';\n",
              "        await google.colab.output.renderOutput(dataTable, element);\n",
              "        const docLink = document.createElement('div');\n",
              "        docLink.innerHTML = docLinkHtml;\n",
              "        element.appendChild(docLink);\n",
              "      }\n",
              "    </script>\n",
              "  </div>\n",
              "\n",
              "\n",
              "    <div id=\"df-1dfd5dba-3ade-4511-b5a9-3a5f6244078f\">\n",
              "      <button class=\"colab-df-quickchart\" onclick=\"quickchart('df-1dfd5dba-3ade-4511-b5a9-3a5f6244078f')\"\n",
              "                title=\"Suggest charts\"\n",
              "                style=\"display:none;\">\n",
              "\n",
              "<svg xmlns=\"http://www.w3.org/2000/svg\" height=\"24px\"viewBox=\"0 0 24 24\"\n",
              "     width=\"24px\">\n",
              "    <g>\n",
              "        <path d=\"M19 3H5c-1.1 0-2 .9-2 2v14c0 1.1.9 2 2 2h14c1.1 0 2-.9 2-2V5c0-1.1-.9-2-2-2zM9 17H7v-7h2v7zm4 0h-2V7h2v10zm4 0h-2v-4h2v4z\"/>\n",
              "    </g>\n",
              "</svg>\n",
              "      </button>\n",
              "\n",
              "<style>\n",
              "  .colab-df-quickchart {\n",
              "      --bg-color: #E8F0FE;\n",
              "      --fill-color: #1967D2;\n",
              "      --hover-bg-color: #E2EBFA;\n",
              "      --hover-fill-color: #174EA6;\n",
              "      --disabled-fill-color: #AAA;\n",
              "      --disabled-bg-color: #DDD;\n",
              "  }\n",
              "\n",
              "  [theme=dark] .colab-df-quickchart {\n",
              "      --bg-color: #3B4455;\n",
              "      --fill-color: #D2E3FC;\n",
              "      --hover-bg-color: #434B5C;\n",
              "      --hover-fill-color: #FFFFFF;\n",
              "      --disabled-bg-color: #3B4455;\n",
              "      --disabled-fill-color: #666;\n",
              "  }\n",
              "\n",
              "  .colab-df-quickchart {\n",
              "    background-color: var(--bg-color);\n",
              "    border: none;\n",
              "    border-radius: 50%;\n",
              "    cursor: pointer;\n",
              "    display: none;\n",
              "    fill: var(--fill-color);\n",
              "    height: 32px;\n",
              "    padding: 0;\n",
              "    width: 32px;\n",
              "  }\n",
              "\n",
              "  .colab-df-quickchart:hover {\n",
              "    background-color: var(--hover-bg-color);\n",
              "    box-shadow: 0 1px 2px rgba(60, 64, 67, 0.3), 0 1px 3px 1px rgba(60, 64, 67, 0.15);\n",
              "    fill: var(--button-hover-fill-color);\n",
              "  }\n",
              "\n",
              "  .colab-df-quickchart-complete:disabled,\n",
              "  .colab-df-quickchart-complete:disabled:hover {\n",
              "    background-color: var(--disabled-bg-color);\n",
              "    fill: var(--disabled-fill-color);\n",
              "    box-shadow: none;\n",
              "  }\n",
              "\n",
              "  .colab-df-spinner {\n",
              "    border: 2px solid var(--fill-color);\n",
              "    border-color: transparent;\n",
              "    border-bottom-color: var(--fill-color);\n",
              "    animation:\n",
              "      spin 1s steps(1) infinite;\n",
              "  }\n",
              "\n",
              "  @keyframes spin {\n",
              "    0% {\n",
              "      border-color: transparent;\n",
              "      border-bottom-color: var(--fill-color);\n",
              "      border-left-color: var(--fill-color);\n",
              "    }\n",
              "    20% {\n",
              "      border-color: transparent;\n",
              "      border-left-color: var(--fill-color);\n",
              "      border-top-color: var(--fill-color);\n",
              "    }\n",
              "    30% {\n",
              "      border-color: transparent;\n",
              "      border-left-color: var(--fill-color);\n",
              "      border-top-color: var(--fill-color);\n",
              "      border-right-color: var(--fill-color);\n",
              "    }\n",
              "    40% {\n",
              "      border-color: transparent;\n",
              "      border-right-color: var(--fill-color);\n",
              "      border-top-color: var(--fill-color);\n",
              "    }\n",
              "    60% {\n",
              "      border-color: transparent;\n",
              "      border-right-color: var(--fill-color);\n",
              "    }\n",
              "    80% {\n",
              "      border-color: transparent;\n",
              "      border-right-color: var(--fill-color);\n",
              "      border-bottom-color: var(--fill-color);\n",
              "    }\n",
              "    90% {\n",
              "      border-color: transparent;\n",
              "      border-bottom-color: var(--fill-color);\n",
              "    }\n",
              "  }\n",
              "</style>\n",
              "\n",
              "      <script>\n",
              "        async function quickchart(key) {\n",
              "          const quickchartButtonEl =\n",
              "            document.querySelector('#' + key + ' button');\n",
              "          quickchartButtonEl.disabled = true;  // To prevent multiple clicks.\n",
              "          quickchartButtonEl.classList.add('colab-df-spinner');\n",
              "          try {\n",
              "            const charts = await google.colab.kernel.invokeFunction(\n",
              "                'suggestCharts', [key], {});\n",
              "          } catch (error) {\n",
              "            console.error('Error during call to suggestCharts:', error);\n",
              "          }\n",
              "          quickchartButtonEl.classList.remove('colab-df-spinner');\n",
              "          quickchartButtonEl.classList.add('colab-df-quickchart-complete');\n",
              "        }\n",
              "        (() => {\n",
              "          let quickchartButtonEl =\n",
              "            document.querySelector('#df-1dfd5dba-3ade-4511-b5a9-3a5f6244078f button');\n",
              "          quickchartButtonEl.style.display =\n",
              "            google.colab.kernel.accessAllowed ? 'block' : 'none';\n",
              "        })();\n",
              "      </script>\n",
              "    </div>\n",
              "\n",
              "    </div>\n",
              "  </div>\n"
            ],
            "application/vnd.google.colaboratory.intrinsic+json": {
              "type": "dataframe",
              "variable_name": "df",
              "summary": "{\n  \"name\": \"df\",\n  \"rows\": 4115,\n  \"fields\": [\n    {\n      \"column\": \"company\",\n      \"properties\": {\n        \"dtype\": \"string\",\n        \"num_unique_values\": 2813,\n        \"samples\": [\n          \"Ola\",\n          \"Marqeta\",\n          \"Bishop Fox\"\n        ],\n        \"semantic_type\": \"\",\n        \"description\": \"\"\n      }\n    },\n    {\n      \"column\": \"location\",\n      \"properties\": {\n        \"dtype\": \"category\",\n        \"num_unique_values\": 264,\n        \"samples\": [\n          \"Nicosia\",\n          \"Jersey City\",\n          \"Nairobi,Non-U.S.\"\n        ],\n        \"semantic_type\": \"\",\n        \"description\": \"\"\n      }\n    },\n    {\n      \"column\": \"total_laid_off\",\n      \"properties\": {\n        \"dtype\": \"number\",\n        \"std\": 977.1845812403708,\n        \"min\": 3.0,\n        \"max\": 22000.0,\n        \"num_unique_values\": 367,\n        \"samples\": [\n          84.0,\n          20.0,\n          30.0\n        ],\n        \"semantic_type\": \"\",\n        \"description\": \"\"\n      }\n    },\n    {\n      \"column\": \"date\",\n      \"properties\": {\n        \"dtype\": \"object\",\n        \"num_unique_values\": 1073,\n        \"samples\": [\n          \"6/23/2020\",\n          \"8/24/2022\",\n          \"3/19/2020\"\n        ],\n        \"semantic_type\": \"\",\n        \"description\": \"\"\n      }\n    },\n    {\n      \"column\": \"percentage_laid_off\",\n      \"properties\": {\n        \"dtype\": \"category\",\n        \"num_unique_values\": 73,\n        \"samples\": [\n          \"3%\",\n          \"48%\",\n          \"13%\"\n        ],\n        \"semantic_type\": \"\",\n        \"description\": \"\"\n      }\n    },\n    {\n      \"column\": \"industry\",\n      \"properties\": {\n        \"dtype\": \"category\",\n        \"num_unique_values\": 30,\n        \"samples\": [\n          \"Construction\",\n          \"Education\",\n          \"Infrastructure\"\n        ],\n        \"semantic_type\": \"\",\n        \"description\": \"\"\n      }\n    },\n    {\n      \"column\": \"source\",\n      \"properties\": {\n        \"dtype\": \"string\",\n        \"num_unique_values\": 3866,\n        \"samples\": [\n          \"https://betakit.com/one-year-after-raising-6-5-million-goodgood-shuts-down-claiming-it-cant-find-more-money/\",\n          \"https://financefwd.com/de/moss-mitarbeiter-entlassungen-2/\",\n          \"https://www.calcalistech.com/ctechnews/article/hjailhyri\"\n        ],\n        \"semantic_type\": \"\",\n        \"description\": \"\"\n      }\n    },\n    {\n      \"column\": \"stage\",\n      \"properties\": {\n        \"dtype\": \"category\",\n        \"num_unique_values\": 16,\n        \"samples\": [\n          \"Post-IPO\",\n          \"Series D\",\n          \"Acquired\"\n        ],\n        \"semantic_type\": \"\",\n        \"description\": \"\"\n      }\n    },\n    {\n      \"column\": \"funds_raised\",\n      \"properties\": {\n        \"dtype\": \"category\",\n        \"num_unique_values\": 717,\n        \"samples\": [\n          \"$451\",\n          \"$733\",\n          \"$3\"\n        ],\n        \"semantic_type\": \"\",\n        \"description\": \"\"\n      }\n    },\n    {\n      \"column\": \"country\",\n      \"properties\": {\n        \"dtype\": \"category\",\n        \"num_unique_values\": 66,\n        \"samples\": [\n          \"Hungary\",\n          \"Russia\",\n          \"Australia\"\n        ],\n        \"semantic_type\": \"\",\n        \"description\": \"\"\n      }\n    },\n    {\n      \"column\": \"date_added\",\n      \"properties\": {\n        \"dtype\": \"object\",\n        \"num_unique_values\": 946,\n        \"samples\": [\n          \"10/8/2023\",\n          \"4/16/2025\",\n          \"9/28/2020\"\n        ],\n        \"semantic_type\": \"\",\n        \"description\": \"\"\n      }\n    }\n  ]\n}"
            }
          },
          "metadata": {},
          "execution_count": 17
        }
      ]
    },
    {
      "cell_type": "code",
      "source": [
        "print(\"Rows, Columns:\", df.shape)\n",
        "df.columns"
      ],
      "metadata": {
        "colab": {
          "base_uri": "https://localhost:8080/"
        },
        "id": "Aei_RV0R3Ogx",
        "outputId": "4647ff96-c3ff-4928-fe70-d6c8ee24d712"
      },
      "execution_count": null,
      "outputs": [
        {
          "output_type": "stream",
          "name": "stdout",
          "text": [
            "Rows, Columns: (4115, 11)\n"
          ]
        },
        {
          "output_type": "execute_result",
          "data": {
            "text/plain": [
              "Index(['company', 'location', 'total_laid_off', 'date', 'percentage_laid_off',\n",
              "       'industry', 'source', 'stage', 'funds_raised', 'country', 'date_added'],\n",
              "      dtype='object')"
            ]
          },
          "metadata": {},
          "execution_count": 19
        }
      ]
    },
    {
      "cell_type": "markdown",
      "source": [
        "# 2. Data Cleaning"
      ],
      "metadata": {
        "id": "4T2GO0jSswMx"
      }
    },
    {
      "cell_type": "markdown",
      "source": [
        "**Find the missing values**"
      ],
      "metadata": {
        "id": "ZdqgfhFSsfyE"
      }
    },
    {
      "cell_type": "code",
      "source": [
        "df.isnull().sum()\n"
      ],
      "metadata": {
        "colab": {
          "base_uri": "https://localhost:8080/",
          "height": 429
        },
        "id": "6_YDgaMhZqqk",
        "outputId": "7b8fc4fa-081c-4933-8cd7-e943d4667b58"
      },
      "execution_count": null,
      "outputs": [
        {
          "output_type": "execute_result",
          "data": {
            "text/plain": [
              "company                   0\n",
              "location                  1\n",
              "total_laid_off         1433\n",
              "date                      0\n",
              "percentage_laid_off    1496\n",
              "industry                  1\n",
              "source                    3\n",
              "stage                     7\n",
              "funds_raised            452\n",
              "country                   2\n",
              "date_added                0\n",
              "dtype: int64"
            ],
            "text/html": [
              "<div>\n",
              "<style scoped>\n",
              "    .dataframe tbody tr th:only-of-type {\n",
              "        vertical-align: middle;\n",
              "    }\n",
              "\n",
              "    .dataframe tbody tr th {\n",
              "        vertical-align: top;\n",
              "    }\n",
              "\n",
              "    .dataframe thead th {\n",
              "        text-align: right;\n",
              "    }\n",
              "</style>\n",
              "<table border=\"1\" class=\"dataframe\">\n",
              "  <thead>\n",
              "    <tr style=\"text-align: right;\">\n",
              "      <th></th>\n",
              "      <th>0</th>\n",
              "    </tr>\n",
              "  </thead>\n",
              "  <tbody>\n",
              "    <tr>\n",
              "      <th>company</th>\n",
              "      <td>0</td>\n",
              "    </tr>\n",
              "    <tr>\n",
              "      <th>location</th>\n",
              "      <td>1</td>\n",
              "    </tr>\n",
              "    <tr>\n",
              "      <th>total_laid_off</th>\n",
              "      <td>1433</td>\n",
              "    </tr>\n",
              "    <tr>\n",
              "      <th>date</th>\n",
              "      <td>0</td>\n",
              "    </tr>\n",
              "    <tr>\n",
              "      <th>percentage_laid_off</th>\n",
              "      <td>1496</td>\n",
              "    </tr>\n",
              "    <tr>\n",
              "      <th>industry</th>\n",
              "      <td>1</td>\n",
              "    </tr>\n",
              "    <tr>\n",
              "      <th>source</th>\n",
              "      <td>3</td>\n",
              "    </tr>\n",
              "    <tr>\n",
              "      <th>stage</th>\n",
              "      <td>7</td>\n",
              "    </tr>\n",
              "    <tr>\n",
              "      <th>funds_raised</th>\n",
              "      <td>452</td>\n",
              "    </tr>\n",
              "    <tr>\n",
              "      <th>country</th>\n",
              "      <td>2</td>\n",
              "    </tr>\n",
              "    <tr>\n",
              "      <th>date_added</th>\n",
              "      <td>0</td>\n",
              "    </tr>\n",
              "  </tbody>\n",
              "</table>\n",
              "</div><br><label><b>dtype:</b> int64</label>"
            ]
          },
          "metadata": {},
          "execution_count": 10
        }
      ]
    },
    {
      "cell_type": "markdown",
      "source": [
        "funds_raised\t~70%\t: There are too many missing values, so I will create a filtered version of that column.   \n",
        "total_laid_off\t~4%\t I have dropped this column.  \n",
        "stage\t< 1%\n",
        "source\t< 1%\t  \n",
        "location, industry, country\t< 0.1%"
      ],
      "metadata": {
        "id": "eUfDMgDJbBFI"
      }
    },
    {
      "cell_type": "markdown",
      "source": [
        "**funds_raised column**"
      ],
      "metadata": {
        "id": "FHjOoCSveOfi"
      }
    },
    {
      "cell_type": "code",
      "source": [
        "# I created a filtered version of the funds_raised column for side analysis as quite a lot of the data was missing\n",
        "df_funding = df[df['funds_raised'].notnull()]"
      ],
      "metadata": {
        "id": "Ara-0hgrhfeD"
      },
      "execution_count": null,
      "outputs": []
    },
    {
      "cell_type": "code",
      "source": [
        "df.columns = df.columns.str.strip().str.lower()"
      ],
      "metadata": {
        "id": "kF5dQZo95Alr"
      },
      "execution_count": null,
      "outputs": []
    },
    {
      "cell_type": "markdown",
      "source": [
        "**total_laid_off column**  \n",
        "Since I can't impute this easily, I have dropped the null rows"
      ],
      "metadata": {
        "id": "4n-pSotveS4K"
      }
    },
    {
      "cell_type": "code",
      "source": [
        "df = df.dropna(subset=['total_laid_off'])"
      ],
      "metadata": {
        "id": "JGcF4g9QeXHW"
      },
      "execution_count": null,
      "outputs": []
    },
    {
      "cell_type": "markdown",
      "source": [
        "**stage and source columns**  \n",
        "Since the missing values in these columns are very few, I am replacing it with 'Unknown'"
      ],
      "metadata": {
        "id": "UJDIFfs3fcdm"
      }
    },
    {
      "cell_type": "code",
      "source": [
        "df = df.copy()"
      ],
      "metadata": {
        "id": "8Y_dP4bc0gmH"
      },
      "execution_count": 7,
      "outputs": []
    },
    {
      "cell_type": "code",
      "source": [
        "df['stage'] = df['stage'].fillna('Unknown')\n",
        "df['source'] = df['source'].fillna('Unknown')"
      ],
      "metadata": {
        "id": "fkM8LieqfZ2-"
      },
      "execution_count": 8,
      "outputs": []
    },
    {
      "cell_type": "markdown",
      "source": [
        "**location, industry and country columns**  \n",
        "Since the missing values in these columns are very few, I am replacing it with 'Unknown' since these columns are important for futher insights."
      ],
      "metadata": {
        "id": "5KBOoOX2f5Ca"
      }
    },
    {
      "cell_type": "code",
      "source": [
        "df['location'] = df['location'].fillna('Unknown')\n",
        "df['industry'] = df['industry'].fillna('Unknown')\n",
        "df['country'] = df['country'].fillna('Unknown')"
      ],
      "metadata": {
        "collapsed": true,
        "id": "nHTNPyQNgfwp"
      },
      "execution_count": 9,
      "outputs": []
    },
    {
      "cell_type": "markdown",
      "source": [
        "**Checking for Duplicates**"
      ],
      "metadata": {
        "id": "Db26tVfDin-G"
      }
    },
    {
      "cell_type": "code",
      "source": [
        "df.duplicated().sum()"
      ],
      "metadata": {
        "colab": {
          "base_uri": "https://localhost:8080/"
        },
        "id": "tHcIIw6timV5",
        "outputId": "3735854f-a7a2-4c90-983e-eeb3d9f372db"
      },
      "execution_count": null,
      "outputs": [
        {
          "output_type": "execute_result",
          "data": {
            "text/plain": [
              "np.int64(0)"
            ]
          },
          "metadata": {},
          "execution_count": 25
        }
      ]
    },
    {
      "cell_type": "code",
      "source": [
        "df['date'] = pd.to_datetime(df['date'])\n",
        "df['date_added'] = pd.to_datetime(df['date_added'])"
      ],
      "metadata": {
        "id": "lBUsx1W7jLF0"
      },
      "execution_count": 10,
      "outputs": []
    },
    {
      "cell_type": "code",
      "source": [
        "df['year'] = df['date'].dt.year\n",
        "df['month'] = df['date'].dt.month"
      ],
      "metadata": {
        "collapsed": true,
        "id": "VT3tQZ3HjNfB"
      },
      "execution_count": 11,
      "outputs": []
    },
    {
      "cell_type": "code",
      "source": [
        "# Removing $ from the records of funds_raised\n",
        "df['funds_raised'] = df['funds_raised'].str.replace('[\\$,]', '', regex=True)"
      ],
      "metadata": {
        "collapsed": true,
        "id": "856oBk07jilT"
      },
      "execution_count": 12,
      "outputs": []
    },
    {
      "cell_type": "code",
      "source": [
        "# Remove '%' and convert to float\n",
        "df['percentage_laid_off'] = df['percentage_laid_off'].str.rstrip('%').astype(float) / 100"
      ],
      "metadata": {
        "id": "7hCz-r9xvEtp"
      },
      "execution_count": null,
      "outputs": []
    },
    {
      "cell_type": "markdown",
      "source": [
        "# 3. Exploratory Data Analysis"
      ],
      "metadata": {
        "id": "U5EOorsdHLtj"
      }
    },
    {
      "cell_type": "code",
      "source": [
        "import warnings\n",
        "warnings.simplefilter(action='ignore', category=FutureWarning)\n"
      ],
      "metadata": {
        "id": "vBJtpfIR1MvY"
      },
      "execution_count": 13,
      "outputs": []
    },
    {
      "cell_type": "markdown",
      "source": [
        "**1. Layoffs per Year**"
      ],
      "metadata": {
        "id": "1YR4a2aaHPpt"
      }
    },
    {
      "cell_type": "code",
      "source": [
        "df['year'] = df['date'].dt.year\n",
        "layoffs_by_year = df.groupby('year')['total_laid_off'].sum().reset_index()\n",
        "\n",
        "plt.figure(figsize=(10,5))\n",
        "sns.barplot(data=layoffs_by_year, x='year', y='total_laid_off', palette='Reds')\n",
        "plt.title(\"Total Layoffs Per Year\")\n",
        "plt.ylabel(\"Employees Laid Off\")\n",
        "plt.xlabel(\"Year\")\n",
        "plt.xticks(rotation=45)\n",
        "plt.tight_layout()\n",
        "plt.show()\n"
      ],
      "metadata": {
        "colab": {
          "base_uri": "https://localhost:8080/",
          "height": 507
        },
        "id": "79E9YT2-HMnz",
        "outputId": "6a96ad90-50f3-452d-e6a2-564d07d15afe"
      },
      "execution_count": 14,
      "outputs": [
        {
          "output_type": "display_data",
          "data": {
            "text/plain": [
              "<Figure size 1000x500 with 1 Axes>"
            ],
            "image/png": "[encoded data removed]"
          },
          "metadata": {}
        }
      ]
    },
    {
      "cell_type": "markdown",
      "source": [
        "**INSIGHTS:**  \n",
        "2023 saw the highest number of layoffs, peaking at over 260,000 employees laid off — a significant spike compared to previous and following years.\n",
        "\n",
        "There was a sharp rise from 2021 to 2022, followed by an even steeper jump into 2023, likely due to post-COVID correction, over-hiring during the pandemic, and economic tightening (interest rate hikes, investor pullback).\n",
        "\n",
        "2024 shows a slight decline, but layoffs remained relatively high — indicating ongoing restructuring.\n",
        "\n",
        "2025 shows signs of stabilization, with layoffs reducing to levels similar to 2020, suggesting potential recovery or better adaptation by tech firms."
      ],
      "metadata": {
        "id": "0qdB45__04LV"
      }
    },
    {
      "cell_type": "markdown",
      "source": [
        "**2. Layoffs by Industry**"
      ],
      "metadata": {
        "id": "BChGD30jnEHT"
      }
    },
    {
      "cell_type": "code",
      "source": [
        "top_industries = df.groupby('industry')['total_laid_off'].sum().sort_values(ascending=False).head(10)\n",
        "\n",
        "plt.figure(figsize=(10,5))\n",
        "sns.barplot(x=top_industries.values, y=top_industries.index, palette='Blues_r')\n",
        "plt.title(\"Top 10 Industries by Total Layoffs\")\n",
        "plt.xlabel(\"Total Layoffs\")\n",
        "plt.ylabel(\"Industry\")\n",
        "plt.tight_layout()\n",
        "plt.show()\n"
      ],
      "metadata": {
        "colab": {
          "base_uri": "https://localhost:8080/",
          "height": 507
        },
        "id": "C3pRVWqcnD1F",
        "outputId": "3e5db832-2da6-43cc-9ecb-63dace02febe"
      },
      "execution_count": 15,
      "outputs": [
        {
          "output_type": "display_data",
          "data": {
            "text/plain": [
              "<Figure size 1000x500 with 1 Axes>"
            ],
            "image/png": "[encoded data removed]"
          },
          "metadata": {}
        }
      ]
    },
    {
      "cell_type": "markdown",
      "source": [
        "**INSIGHTS:**  \n",
        "\n",
        "**Hardware:**  \n",
        "Most layoffs, likely due to overproduction during the pandemic and post-COVID demand drop.\n",
        "\n",
        "**Other:**  \n",
        "Includes mixed-model startups or uncategorized firms.\n",
        "\n",
        "**Consumer:**  \n",
        "High layoffs due to reduced spending, B2C funding crunch, and shifting post-pandemic focus.\n",
        "\n",
        "**Retail:**  \n",
        "Overhiring during e-commerce boom led to corrections and workforce cuts.\n",
        "\n",
        "**Transportation:**   \n",
        "Volatile fuel prices and supply chain shifts caused sector instability and layoffs.\n",
        "\n",
        "**Finance:**   \n",
        "Fintechs expanded too fast during funding highs and scaled back in tougher markets.\n",
        "\n",
        "**Food:**   \n",
        "COVID-driven overexpansion in food delivery saw declines post-pandemic, triggering cuts.\n",
        "\n",
        "**Healthcare:**   \n",
        "Health-tech startups laid off staff after pandemic momentum faded.\n",
        "\n",
        "**Travel:**  \n",
        "Travel was hit hardest in the years 2020–21, and the layoffs reflect the long recovery path for that industry.\n",
        "\n",
        "**Infrastructure:**  \n",
        "This had the least layoffs among the top 10. It might be because infrastructure projects tend to have longer timelines and more stability, especially if tied to government."
      ],
      "metadata": {
        "id": "km-wxs4Q1hkh"
      }
    },
    {
      "cell_type": "markdown",
      "source": [
        "**3. Layoffs by Company**"
      ],
      "metadata": {
        "id": "luhi9xSInZsP"
      }
    },
    {
      "cell_type": "code",
      "source": [
        "top_companies = df.groupby('company')['total_laid_off'].sum().sort_values(ascending=False).head(10)\n",
        "\n",
        "plt.figure(figsize=(10,5))\n",
        "sns.barplot(x=top_companies.values, y=top_companies.index, palette='Purples_r')\n",
        "plt.title(\"Top 10 Companies by Layoffs\")\n",
        "plt.xlabel(\"Total Layoffs\")\n",
        "plt.ylabel(\"Company\")\n",
        "plt.tight_layout()\n",
        "plt.show()\n"
      ],
      "metadata": {
        "colab": {
          "base_uri": "https://localhost:8080/",
          "height": 507
        },
        "id": "GqNYxXA6naD5",
        "outputId": "2986b0a3-8fe2-4190-c52d-d99b989045b0"
      },
      "execution_count": 16,
      "outputs": [
        {
          "output_type": "display_data",
          "data": {
            "text/plain": [
              "<Figure size 1000x500 with 1 Axes>"
            ],
            "image/png": "[encoded data removed]"
          },
          "metadata": {}
        }
      ]
    },
    {
      "cell_type": "markdown",
      "source": [
        "**INSIGHTS:**  \n",
        "\n",
        "Intel laid off the most people, probably because of the chip market slowdown and internal changes.  \n",
        "\n",
        "Big tech companies like Microsoft, Amazon and Meta also had major layoffs, possibly to fix overhiring during the pandemic.\n",
        "\n",
        "Tesla, Cisco and Google seemed to cut jobs to manage costs or deal with changing demand.\n",
        "\n",
        "Even companies like Salesforce and SAP downsized a bit, mostly to improve profits after scaling too fast."
      ],
      "metadata": {
        "id": "4TKrrOLq3_W5"
      }
    },
    {
      "cell_type": "markdown",
      "source": [
        "**4. Top 10 Countries by Total Layoffs**"
      ],
      "metadata": {
        "id": "jGULaWb9nmR1"
      }
    },
    {
      "cell_type": "code",
      "source": [
        "top_countries = df.groupby('country')['total_laid_off'].sum().sort_values(ascending=False).head(10)\n",
        "\n",
        "plt.figure(figsize=(10,5))\n",
        "sns.barplot(x=top_countries.values, y=top_countries.index, palette='coolwarm')\n",
        "plt.title(\"Top 10 Countries by Total Layoffs\")\n",
        "plt.xlabel(\"Total Layoffs\")\n",
        "plt.ylabel(\"Country\")\n",
        "plt.tight_layout()\n",
        "plt.show()\n"
      ],
      "metadata": {
        "colab": {
          "base_uri": "https://localhost:8080/",
          "height": 507
        },
        "id": "5NtDzlDYnnU6",
        "outputId": "5ae2497c-64c3-478a-8901-a61aaf397884"
      },
      "execution_count": 17,
      "outputs": [
        {
          "output_type": "display_data",
          "data": {
            "text/plain": [
              "<Figure size 1000x500 with 1 Axes>"
            ],
            "image/png": "[encoded data removed]"
          },
          "metadata": {}
        }
      ]
    },
    {
      "cell_type": "markdown",
      "source": [
        "**INSIGHTS:**  \n",
        "\n",
        "The United States is clearly ahead in terms of layoff numbers, it is way ahead of every other country. India is second, but the difference between them is huge.    \n",
        "\n",
        "\n",
        "This shows how layoffs have been heavily concentrated in the U.S, probably because a large number of global tech giants have their headquarters there and were hit harder."
      ],
      "metadata": {
        "id": "1bw9d0XY5aHE"
      }
    },
    {
      "cell_type": "markdown",
      "source": [
        "**5. Company Stage vs Layoffs**"
      ],
      "metadata": {
        "id": "DlCXImmSoZID"
      }
    },
    {
      "cell_type": "code",
      "source": [
        "# Remove unknowns for clean analysis\n",
        "df_stage = df[df['stage'].str.lower() != 'unknown']\n",
        "\n",
        "# Recalculate after filtering\n",
        "stage_layoffs_filtered = df_stage.groupby('stage')['total_laid_off'].sum().sort_values(ascending=False)\n",
        "\n",
        "plt.figure(figsize=(10,6))\n",
        "sns.barplot(x=stage_layoffs_filtered.values, y=stage_layoffs_filtered.index, palette='crest')\n",
        "plt.title(\"Company Stage vs Total Layoffs (Excluding Unknown)\")\n",
        "plt.xlabel(\"Total Layoffs\")\n",
        "plt.ylabel(\"Stage\")\n",
        "plt.tight_layout()\n",
        "plt.show()\n"
      ],
      "metadata": {
        "colab": {
          "base_uri": "https://localhost:8080/",
          "height": 607
        },
        "id": "rkOWVXbmoG3p",
        "outputId": "b56be332-2ef2-43f0-8eb1-170bfa98b73c"
      },
      "execution_count": 18,
      "outputs": [
        {
          "output_type": "display_data",
          "data": {
            "text/plain": [
              "<Figure size 1000x600 with 1 Axes>"
            ],
            "image/png": "[encoded data removed]"
          },
          "metadata": {}
        }
      ]
    },
    {
      "cell_type": "markdown",
      "source": [
        "**INSIGHTS:**  \n",
        "\n",
        "Most layoffs occurred in Post-IPO companies, followed by those that were Acquired and then late-stage funding rounds like Series B to F. This shows that larger startups and public companies are have the majority of workforce cuts, possibly due to overhiring during growth periods or pressure from investors to cut costs.\n",
        "\n",
        "On the other hand, early-stage companies (Seed, Series A) show minimal layoffs, likely due to smaller teams and cautious hiring."
      ],
      "metadata": {
        "id": "OPPkdw_X6IIy"
      }
    },
    {
      "cell_type": "markdown",
      "source": [
        "**6. Layoffs over time**"
      ],
      "metadata": {
        "id": "W4_r25rSt5Jz"
      }
    },
    {
      "cell_type": "code",
      "source": [
        "df['date'] = pd.to_datetime(df['date'])\n",
        "df['year_month'] = df['date'].dt.to_period('M')\n",
        "monthly_layoffs = df.groupby('year_month')['total_laid_off'].sum()\n",
        "\n",
        "monthly_layoffs.plot(kind='line', figsize=(12,5), marker='o')\n",
        "plt.title('Total Layoffs Over Time')\n",
        "plt.xlabel('Month')\n",
        "plt.ylabel('Total Laid Off')\n",
        "plt.grid(True)\n",
        "plt.tight_layout()\n",
        "plt.show()\n"
      ],
      "metadata": {
        "colab": {
          "base_uri": "https://localhost:8080/",
          "height": 507
        },
        "id": "MS2CpPDTp_di",
        "outputId": "048a8f40-3c69-443e-b1f6-b6a4e53d990f"
      },
      "execution_count": 19,
      "outputs": [
        {
          "output_type": "display_data",
          "data": {
            "text/plain": [
              "<Figure size 1200x500 with 1 Axes>"
            ],
            "image/png": "[encoded data removed]"
          },
          "metadata": {}
        }
      ]
    },
    {
      "cell_type": "markdown",
      "source": [
        "**INSIGHTS:**  \n",
        "\n",
        "Layoffs peaked dramatically in early 2023, with over 85,000 employees laid off in a single month, likely due to post-pandemic period.\n",
        "\n",
        "After that spike, layoffs gradually decreased but still show some instability."
      ],
      "metadata": {
        "id": "mzuGXvPH6-Q4"
      }
    },
    {
      "cell_type": "markdown",
      "source": [
        "**7. The distribution of layoff percentages**"
      ],
      "metadata": {
        "id": "zen7tvPMu2HH"
      }
    },
    {
      "cell_type": "code",
      "source": [
        "plt.figure(figsize=(8,5))\n",
        "sns.histplot(df['percentage_laid_off'].dropna(), bins=20, kde=True)\n",
        "plt.title(\"Distribution of Layoff Percentage\")\n",
        "plt.xlabel(\"Percentage Laid Off\")\n",
        "plt.ylabel(\"Number of Companies\")\n",
        "plt.tight_layout()\n",
        "plt.show()\n"
      ],
      "metadata": {
        "colab": {
          "base_uri": "https://localhost:8080/",
          "height": 507
        },
        "id": "zyIz6V0Fun4v",
        "outputId": "b3579004-1df8-4308-8e96-126c4bbfbf26"
      },
      "execution_count": null,
      "outputs": [
        {
          "output_type": "display_data",
          "data": {
            "text/plain": [
              "<Figure size 800x500 with 1 Axes>"
            ],
            "image/png": "[encoded data removed]"
          },
          "metadata": {}
        }
      ]
    },
    {
      "cell_type": "markdown",
      "source": [
        "**INSIGHTS:**  \n",
        "\n",
        "Most companies laid off less than 30% of their workforce, the peak is around the 10–20% range.\n",
        "\n",
        "However, there’s a long tail, which means that a few companies laid off a large portion of their staff, indicating company shutdowns or major crises."
      ],
      "metadata": {
        "id": "dENuWMpQ77nh"
      }
    },
    {
      "cell_type": "markdown",
      "source": [
        "**8. Correlation Between Numeric Features**"
      ],
      "metadata": {
        "id": "Nd3ZP_lbt8Of"
      }
    },
    {
      "cell_type": "code",
      "source": [
        "sns.heatmap(df[['total_laid_off', 'percentage_laid_off', 'funds_raised']].corr(), annot=True, cmap='coolwarm')\n",
        "plt.title(\"Correlation Heatmap\")\n",
        "plt.tight_layout()\n",
        "plt.show()\n"
      ],
      "metadata": {
        "colab": {
          "base_uri": "https://localhost:8080/",
          "height": 487
        },
        "id": "rpPFeJ9xuEuD",
        "outputId": "79252ba7-1eef-4a9c-8a22-cc303f13e6fe"
      },
      "execution_count": null,
      "outputs": [
        {
          "output_type": "display_data",
          "data": {
            "text/plain": [
              "<Figure size 640x480 with 2 Axes>"
            ],
            "image/png": "[encoded data removed]"
          },
          "metadata": {}
        }
      ]
    },
    {
      "cell_type": "markdown",
      "source": [
        "The heatmap shows that:\n",
        "\n",
        "*   The correlation between total layoffs and funds raised is very weak (0.10).\n",
        "\n",
        "*   The correlation between layoff percentage and funds raised is slightly negative (-0.06).\n",
        "\n",
        "*   There is also a very weak inverse relationship between total laid off and percentage laid off, suggesting different scales of operations.\n",
        "\n",
        "\n",
        "High funding does not guarantee job security as companies with large capital can still lay off employees."
      ],
      "metadata": {
        "id": "zMtOhlCf8957"
      }
    },
    {
      "cell_type": "markdown",
      "source": [
        "# **Overall Insight**"
      ],
      "metadata": {
        "id": "cRhuDFT2pZTd"
      }
    },
    {
      "cell_type": "markdown",
      "source": [
        "From 2020–2025, layoffs rose and fell in a clear cycle, mainly driven by pandemic overhiring, changing demand and a weaker economy. Numbers jumped sharply from 2021, peaking in early 2023 with over 260,000 jobs lost, including 85,000 in one month as companies scaled back after the pandemic and dealt with higher interest rates and less funding. Layoffs dropped in 2024 but stayed high, then returned to near-2020 levels in 2025.\n",
        "\n"
      ],
      "metadata": {
        "id": "6wNDX3RtqAGQ"
      }
    },
    {
      "cell_type": "markdown",
      "source": [
        "The most affected sectors were hardware, consumer, retail and transportation, while infrastructure stayed steady. Most job cuts happened in post-IPO and late-stage startups, often due to investor pressure. Smaller early-stage companies were mostly spared. The U.S. saw the most layoffs by far, followed by India, with big cuts from Intel, Microsoft, Amazon and Meta. Most companies cut less than 30% of staff, but some had massive layoffs or shut down entirely.\n",
        "\n"
      ],
      "metadata": {
        "id": "IT_TUk8xqDZD"
      }
    },
    {
      "cell_type": "markdown",
      "source": [
        "Funding had a slight link to job security, showing that even well-funded companies made cuts. Overall, the data shows a market correction where larger and more established firms took the biggest hit, with signs of steadier hiring and growth by 2025."
      ],
      "metadata": {
        "id": "AZkIQPnEqE0H"
      }
    }
  ]
}